{
  "cells": [
    {
      "cell_type": "markdown",
      "metadata": {
        "id": "view-in-github",
        "colab_type": "text"
      },
      "source": [
        "<a href=\"https://colab.research.google.com/github/Prathamesh-Kashelikar/python-graph-algorithms.ipynb/blob/main/python_graph_algorithms.ipynb\" target=\"_parent\"><img src=\"https://colab.research.google.com/assets/colab-badge.svg\" alt=\"Open In Colab\"/></a>"
      ]
    },
    {
      "cell_type": "code",
      "execution_count": 1,
      "id": "0b1ff48d",
      "metadata": {
        "colab": {
          "base_uri": "https://localhost:8080/"
        },
        "id": "0b1ff48d",
        "outputId": "00f1a906-ef22-4612-c00d-6fe0a4896e12"
      },
      "outputs": [
        {
          "output_type": "stream",
          "name": "stdout",
          "text": [
            "\u001b[?25l\r\u001b[K     |████▊                           | 10 kB 21.1 MB/s eta 0:00:01\r\u001b[K     |█████████▌                      | 20 kB 23.2 MB/s eta 0:00:01\r\u001b[K     |██████████████▎                 | 30 kB 26.8 MB/s eta 0:00:01\r\u001b[K     |███████████████████             | 40 kB 22.4 MB/s eta 0:00:01\r\u001b[K     |███████████████████████▉        | 51 kB 8.0 MB/s eta 0:00:01\r\u001b[K     |████████████████████████████▋   | 61 kB 9.3 MB/s eta 0:00:01\r\u001b[K     |████████████████████████████████| 68 kB 3.9 MB/s \n",
            "\u001b[?25h  Building wheel for uuid (setup.py) ... \u001b[?25l\u001b[?25hdone\n"
          ]
        }
      ],
      "source": [
        "# Jovian Commit Essentials\n",
        "# Please retain and execute this cell without modifying the contents for `jovian.commit` to work\n",
        "!pip install jovian --upgrade -q\n",
        "import jovian\n",
        "jovian.set_project('python-graph-algorithms')\n",
        "jovian.set_colab_id('1aBXCoWTgZx8jSAi22fikqqsxlkD-NaWi')"
      ]
    },
    {
      "cell_type": "markdown",
      "id": "variable-garbage",
      "metadata": {
        "id": "variable-garbage"
      },
      "source": [
        "# Graph Algorithms (BFS, DFS, Shortest Paths) using Python\n",
        "\n",
        "### Part 5 of \"Data Structures and Algorithms in Python\"\n",
        "\n",
        "[Data Structures and Algorithms in Python](https://jovian.ai/learn/data-structures-and-algorithms-in-python) is a beginner-friendly introduction to common data structures (linked lists, stacks, queues, graphs) and algorithms (search, sorting, recursion, dynamic programming) in Python, designed to help you prepare for coding interviews and assessments. \n",
        "\n",
        "Ask questions, get help & participate in discussions on the [course community forum](https://jovian.ai/forum/c/data-structures-and-algorithms-in-python/78). Earn a verified certificate of accomplishment for this course by signing up here: http://pythondsa.com.  \n",
        "\n"
      ]
    },
    {
      "cell_type": "markdown",
      "id": "acceptable-clearance",
      "metadata": {
        "id": "acceptable-clearance"
      },
      "source": [
        "### How to Run the Code\n",
        "\n",
        "The best way to learn the material is to execute the code and experiment with it yourself. This tutorial is an executable [Jupyter notebook](https://jupyter.org). You can _run_ this tutorial and experiment with the code examples in a couple of ways: *using free online resources* (recommended) or *on your computer*.\n",
        "\n",
        "#### Option 1: Running using free online resources (1-click, recommended)\n",
        "\n",
        "The easiest way to start executing the code is to click the **Run** button at the top of this page and select **Run on Binder**. You can also select \"Run on Colab\" or \"Run on Kaggle\", but you'll need to create an account on [Google Colab](https://colab.research.google.com) or [Kaggle](https://kaggle.com) to use these platforms.\n",
        "\n",
        "\n",
        "#### Option 2: Running on your computer locally\n",
        "\n",
        "To run the code on your computer locally, you'll need to set up [Python](https://www.python.org), download the notebook and install the required libraries. We recommend using the [Conda](https://docs.conda.io/projects/conda/en/latest/user-guide/install/) distribution of Python. Click the **Run** button at the top of this page, select the **Run Locally** option, and follow the instructions.\n",
        "\n"
      ]
    },
    {
      "cell_type": "markdown",
      "id": "polyphonic-brisbane",
      "metadata": {
        "id": "polyphonic-brisbane"
      },
      "source": [
        "## Graphs in the Real World\n",
        "\n",
        "### Railway network\n",
        "\n",
        "![](https://i.imgur.com/uSF6AEJ.png)\n",
        "\n",
        "### Flight routes\n",
        "\n",
        "![](https://www.mapsales.com/products/mapsofworld/images/zoom/world-air-route-wall-map.gif)\n",
        "\n",
        "### Hyperlinks\n",
        "\n",
        "![](https://i.imgur.com/hlGDYn2.png)"
      ]
    },
    {
      "cell_type": "markdown",
      "id": "stretch-superior",
      "metadata": {
        "id": "stretch-superior"
      },
      "source": [
        "## Graph Data Strucutre\n",
        "\n",
        "![](https://i.imgur.com/xkgMnwx.png)\n",
        "\n"
      ]
    },
    {
      "cell_type": "code",
      "execution_count": null,
      "id": "settled-medicaid",
      "metadata": {
        "id": "settled-medicaid"
      },
      "outputs": [],
      "source": [
        ""
      ]
    },
    {
      "cell_type": "markdown",
      "id": "white-outdoors",
      "metadata": {
        "id": "white-outdoors"
      },
      "source": [
        "### Adjacency Lists\n",
        "\n",
        "![](https://i.imgur.com/rgMwkIW.png)\n",
        "\n",
        "\n",
        "> **Question**: Create a class to represent a graph as an adjacency list in Python"
      ]
    },
    {
      "cell_type": "code",
      "execution_count": 2,
      "id": "premium-prison",
      "metadata": {
        "colab": {
          "base_uri": "https://localhost:8080/"
        },
        "id": "premium-prison",
        "outputId": "78bb565a-d2f3-46c1-e410-0a1dc424bc7d"
      },
      "outputs": [
        {
          "output_type": "execute_result",
          "data": {
            "text/plain": [
              "(5, 7)"
            ]
          },
          "metadata": {},
          "execution_count": 2
        }
      ],
      "source": [
        "num_nodes = 5\n",
        "edges = [(0,1),(0,4),(1,2),(1,3),(1,4),(2,3),(3,4)]\n",
        "num_nodes , len(edges)"
      ]
    },
    {
      "cell_type": "code",
      "source": [
        "l1 = [0]*10\n",
        "l1"
      ],
      "metadata": {
        "colab": {
          "base_uri": "https://localhost:8080/"
        },
        "id": "2rD01H_A8W6X",
        "outputId": "9e18b92c-96ad-4d33-9ff5-5d1f4cdb1e21"
      },
      "id": "2rD01H_A8W6X",
      "execution_count": 3,
      "outputs": [
        {
          "output_type": "execute_result",
          "data": {
            "text/plain": [
              "[0, 0, 0, 0, 0, 0, 0, 0, 0, 0]"
            ]
          },
          "metadata": {},
          "execution_count": 3
        }
      ]
    },
    {
      "cell_type": "code",
      "source": [
        "l1[0] = 1\n",
        "l1"
      ],
      "metadata": {
        "colab": {
          "base_uri": "https://localhost:8080/"
        },
        "id": "WiABtUg88tN6",
        "outputId": "2e1ce516-0135-4adc-b8f5-9f5c797b5f7f"
      },
      "id": "WiABtUg88tN6",
      "execution_count": 4,
      "outputs": [
        {
          "output_type": "execute_result",
          "data": {
            "text/plain": [
              "[1, 0, 0, 0, 0, 0, 0, 0, 0, 0]"
            ]
          },
          "metadata": {},
          "execution_count": 4
        }
      ]
    },
    {
      "cell_type": "code",
      "source": [
        "l2=[[]]*10\n",
        "l2"
      ],
      "metadata": {
        "colab": {
          "base_uri": "https://localhost:8080/"
        },
        "id": "HdrmOmPL8Wst",
        "outputId": "1fb6d68a-c6e7-4101-bf67-b6b1fe10a3e8"
      },
      "id": "HdrmOmPL8Wst",
      "execution_count": 5,
      "outputs": [
        {
          "output_type": "execute_result",
          "data": {
            "text/plain": [
              "[[], [], [], [], [], [], [], [], [], []]"
            ]
          },
          "metadata": {},
          "execution_count": 5
        }
      ]
    },
    {
      "cell_type": "code",
      "source": [
        "l2[0].append(1)  ### appending to 0th item by this methods create this issue.\n",
        "l2"
      ],
      "metadata": {
        "colab": {
          "base_uri": "https://localhost:8080/"
        },
        "id": "FWcc3T9G8onL",
        "outputId": "fc2c1ade-b2c6-470d-aa07-f3c604902c64"
      },
      "id": "FWcc3T9G8onL",
      "execution_count": 6,
      "outputs": [
        {
          "output_type": "execute_result",
          "data": {
            "text/plain": [
              "[[1], [1], [1], [1], [1], [1], [1], [1], [1], [1]]"
            ]
          },
          "metadata": {},
          "execution_count": 6
        }
      ]
    },
    {
      "cell_type": "code",
      "source": [
        "l3 = [[] for x in range(10)]\n",
        "l3"
      ],
      "metadata": {
        "colab": {
          "base_uri": "https://localhost:8080/"
        },
        "id": "MZzTll7OADGS",
        "outputId": "ffd62252-da92-462f-914c-b0521b62b406"
      },
      "id": "MZzTll7OADGS",
      "execution_count": 7,
      "outputs": [
        {
          "output_type": "execute_result",
          "data": {
            "text/plain": [
              "[[], [], [], [], [], [], [], [], [], []]"
            ]
          },
          "metadata": {},
          "execution_count": 7
        }
      ]
    },
    {
      "cell_type": "code",
      "source": [
        "l3[0].append(1)\n",
        "l3"
      ],
      "metadata": {
        "colab": {
          "base_uri": "https://localhost:8080/"
        },
        "id": "mEwHNZjPAC8S",
        "outputId": "fc3debfd-00af-43cc-a5fe-97a6d72eac26"
      },
      "id": "mEwHNZjPAC8S",
      "execution_count": 8,
      "outputs": [
        {
          "output_type": "execute_result",
          "data": {
            "text/plain": [
              "[[1], [], [], [], [], [], [], [], [], []]"
            ]
          },
          "metadata": {},
          "execution_count": 8
        }
      ]
    },
    {
      "cell_type": "code",
      "source": [
        "for n1,n2 in edges:\n",
        "  print('n1:',n1,'n2:',n2)"
      ],
      "metadata": {
        "colab": {
          "base_uri": "https://localhost:8080/"
        },
        "id": "z095zSouAvI0",
        "outputId": "d126e9fe-2376-4dd5-b210-e03c09fb44c5"
      },
      "id": "z095zSouAvI0",
      "execution_count": 9,
      "outputs": [
        {
          "output_type": "stream",
          "name": "stdout",
          "text": [
            "n1: 0 n2: 1\n",
            "n1: 0 n2: 4\n",
            "n1: 1 n2: 2\n",
            "n1: 1 n2: 3\n",
            "n1: 1 n2: 4\n",
            "n1: 2 n2: 3\n",
            "n1: 3 n2: 4\n"
          ]
        }
      ]
    },
    {
      "cell_type": "code",
      "source": [
        "for i,value in enumerate([5,3,1,2,4]):\n",
        "  print(i,value)"
      ],
      "metadata": {
        "colab": {
          "base_uri": "https://localhost:8080/"
        },
        "id": "E06j0Vh6Claz",
        "outputId": "b770ea2e-5334-4dd8-aa13-3795b4f0c27b"
      },
      "id": "E06j0Vh6Claz",
      "execution_count": 10,
      "outputs": [
        {
          "output_type": "stream",
          "name": "stdout",
          "text": [
            "0 5\n",
            "1 3\n",
            "2 1\n",
            "3 2\n",
            "4 4\n"
          ]
        }
      ]
    },
    {
      "cell_type": "code",
      "source": [
        "jovian.commit()"
      ],
      "metadata": {
        "colab": {
          "base_uri": "https://localhost:8080/",
          "height": 122
        },
        "id": "fO0ZIDOslOId",
        "outputId": "f90a60be-50db-4252-9f09-d0b18b3e1e78"
      },
      "id": "fO0ZIDOslOId",
      "execution_count": 11,
      "outputs": [
        {
          "output_type": "stream",
          "name": "stdout",
          "text": [
            "[jovian] Detected Colab notebook...\u001b[0m\n",
            "[jovian] Please enter your API key ( from https://jovian.ai/ ):\u001b[0m\n",
            "API KEY: ··········\n",
            "[jovian] Uploading colab notebook to Jovian...\u001b[0m\n",
            "Committed successfully! https://jovian.ai/prathamesh-kashelikar/python-graph-algorithms\n"
          ]
        },
        {
          "output_type": "execute_result",
          "data": {
            "text/plain": [
              "'https://jovian.ai/prathamesh-kashelikar/python-graph-algorithms'"
            ],
            "application/vnd.google.colaboratory.intrinsic+json": {
              "type": "string"
            }
          },
          "metadata": {},
          "execution_count": 11
        }
      ]
    },
    {
      "cell_type": "code",
      "execution_count": 30,
      "id": "improving-section",
      "metadata": {
        "id": "improving-section"
      },
      "outputs": [],
      "source": [
        "class Graph:\n",
        "  def __init__(self,num_nodes,edges):\n",
        "    self.num_nodes = num_nodes\n",
        "    self.data = [[] for _ in range(num_nodes)]\n",
        "    for n1,n2 in edges:\n",
        "      self.data[n1].append(n2)\n",
        "      self.data[n2].append(n1)\n",
        "  def __repr__(self):\n",
        "    return \"\\n\".join([\"{}: {}\".format(n,neighbors) for n,neighbors in enumerate(self.data)])\n",
        "  def __str__(self):\n",
        "    return self.__repr__()\n"
      ]
    },
    {
      "cell_type": "code",
      "execution_count": 31,
      "id": "speaking-routine",
      "metadata": {
        "id": "speaking-routine"
      },
      "outputs": [],
      "source": [
        "graph1 = Graph(num_nodes,edges)\n"
      ]
    },
    {
      "cell_type": "code",
      "source": [
        "graph1"
      ],
      "metadata": {
        "colab": {
          "base_uri": "https://localhost:8080/"
        },
        "id": "6cYkIlzoq6lA",
        "outputId": "256fa8e8-58b3-4dde-b1ee-b72257b29861"
      },
      "id": "6cYkIlzoq6lA",
      "execution_count": 32,
      "outputs": [
        {
          "output_type": "execute_result",
          "data": {
            "text/plain": [
              "0: [1, 4]\n",
              "1: [0, 2, 3, 4]\n",
              "2: [1, 3]\n",
              "3: [1, 2, 4]\n",
              "4: [0, 1, 3]"
            ]
          },
          "metadata": {},
          "execution_count": 32
        }
      ]
    },
    {
      "cell_type": "code",
      "source": [
        "for x in enumerate(graph1.data):\n",
        "  print(x)"
      ],
      "metadata": {
        "colab": {
          "base_uri": "https://localhost:8080/"
        },
        "id": "PaTXTfp2C8EV",
        "outputId": "ab17295b-baf8-4093-afaf-0b0456198536"
      },
      "id": "PaTXTfp2C8EV",
      "execution_count": 33,
      "outputs": [
        {
          "output_type": "stream",
          "name": "stdout",
          "text": [
            "(0, [1, 4])\n",
            "(1, [0, 2, 3, 4])\n",
            "(2, [1, 3])\n",
            "(3, [1, 2, 4])\n",
            "(4, [0, 1, 3])\n"
          ]
        }
      ]
    },
    {
      "cell_type": "code",
      "execution_count": 34,
      "id": "viral-pendant",
      "metadata": {
        "colab": {
          "base_uri": "https://localhost:8080/"
        },
        "id": "viral-pendant",
        "outputId": "b0f255c0-3849-4395-e289-623c435abf2a"
      },
      "outputs": [
        {
          "output_type": "execute_result",
          "data": {
            "text/plain": [
              "[[1, 4], [0, 2, 3, 4], [1, 3], [1, 2, 4], [0, 1, 3]]"
            ]
          },
          "metadata": {},
          "execution_count": 34
        }
      ],
      "source": [
        "graph1.data"
      ]
    },
    {
      "cell_type": "markdown",
      "id": "english-action",
      "metadata": {
        "id": "english-action"
      },
      "source": [
        "> **Question**: Write a function to add an edge to a graph represented as an adjacency list. \n",
        "\n",
        "> **Question**: Write a function to remove an edge from a graph represented as a adjacency list.\n"
      ]
    },
    {
      "cell_type": "code",
      "execution_count": null,
      "id": "signed-manor",
      "metadata": {
        "id": "signed-manor"
      },
      "outputs": [],
      "source": [
        ""
      ]
    },
    {
      "cell_type": "code",
      "execution_count": 35,
      "id": "nasty-alberta",
      "metadata": {
        "id": "nasty-alberta"
      },
      "outputs": [],
      "source": [
        "!pip install jovian --upgrade --quiet"
      ]
    },
    {
      "cell_type": "code",
      "execution_count": 36,
      "id": "renewable-consumption",
      "metadata": {
        "id": "renewable-consumption"
      },
      "outputs": [],
      "source": [
        "import jovian"
      ]
    },
    {
      "cell_type": "code",
      "execution_count": 37,
      "id": "collaborative-reduction",
      "metadata": {
        "colab": {
          "base_uri": "https://localhost:8080/",
          "height": 87
        },
        "id": "collaborative-reduction",
        "outputId": "6702a51a-d30a-4e71-ab04-3c499451c3fa"
      },
      "outputs": [
        {
          "output_type": "stream",
          "name": "stdout",
          "text": [
            "[jovian] Detected Colab notebook...\u001b[0m\n",
            "[jovian] Uploading colab notebook to Jovian...\u001b[0m\n",
            "Committed successfully! https://jovian.ai/prathamesh-kashelikar/python-graph-algorithms\n"
          ]
        },
        {
          "output_type": "execute_result",
          "data": {
            "text/plain": [
              "'https://jovian.ai/prathamesh-kashelikar/python-graph-algorithms'"
            ],
            "application/vnd.google.colaboratory.intrinsic+json": {
              "type": "string"
            }
          },
          "metadata": {},
          "execution_count": 37
        }
      ],
      "source": [
        "jovian.commit()"
      ]
    },
    {
      "cell_type": "markdown",
      "id": "potential-native",
      "metadata": {
        "id": "potential-native"
      },
      "source": [
        "### Adjacency Matrix\n",
        "\n",
        "![](https://i.imgur.com/oswYKTW.png)\n",
        "\n",
        "> **Question**: Represent a graph as an adjacency matrix in Python"
      ]
    },
    {
      "cell_type": "code",
      "execution_count": 42,
      "id": "sensitive-iraqi",
      "metadata": {
        "colab": {
          "base_uri": "https://localhost:8080/"
        },
        "id": "sensitive-iraqi",
        "outputId": "9e9c7c88-4276-4193-9da9-88adca544839"
      },
      "outputs": [
        {
          "output_type": "execute_result",
          "data": {
            "text/plain": [
              "[[0, 0, 0, 0, 0],\n",
              " [0, 0, 0, 0, 0],\n",
              " [0, 0, 0, 0, 0],\n",
              " [0, 0, 0, 0, 0],\n",
              " [0, 0, 0, 0, 0]]"
            ]
          },
          "metadata": {},
          "execution_count": 42
        }
      ],
      "source": [
        "x=[]\n",
        "for _ in range(num_nodes):\n",
        "  x.append([0]*num_nodes)\n",
        "x"
      ]
    },
    {
      "cell_type": "code",
      "execution_count": 55,
      "id": "alleged-means",
      "metadata": {
        "colab": {
          "base_uri": "https://localhost:8080/"
        },
        "id": "alleged-means",
        "outputId": "77a569c9-c9aa-4486-da00-c8d504e0383c"
      },
      "outputs": [
        {
          "output_type": "execute_result",
          "data": {
            "text/plain": [
              "[[0, 1, 0, 0, 1],\n",
              " [1, 0, 1, 1, 1],\n",
              " [0, 1, 0, 1, 0],\n",
              " [0, 1, 1, 0, 1],\n",
              " [1, 1, 0, 1, 0]]"
            ]
          },
          "metadata": {},
          "execution_count": 55
        }
      ],
      "source": [
        "for n1,n2 in edges:\n",
        "  x[n1][n2] = 1\n",
        "  x[n2][n1] = 1\n",
        "x"
      ]
    },
    {
      "cell_type": "code",
      "execution_count": 56,
      "id": "tutorial-massage",
      "metadata": {
        "colab": {
          "base_uri": "https://localhost:8080/",
          "height": 87
        },
        "id": "tutorial-massage",
        "outputId": "dc90de5b-9914-4a24-d9b9-e82cb8b8c31b"
      },
      "outputs": [
        {
          "output_type": "stream",
          "name": "stdout",
          "text": [
            "[jovian] Detected Colab notebook...\u001b[0m\n",
            "[jovian] Uploading colab notebook to Jovian...\u001b[0m\n",
            "Committed successfully! https://jovian.ai/prathamesh-kashelikar/python-graph-algorithms\n"
          ]
        },
        {
          "output_type": "execute_result",
          "data": {
            "text/plain": [
              "'https://jovian.ai/prathamesh-kashelikar/python-graph-algorithms'"
            ],
            "application/vnd.google.colaboratory.intrinsic+json": {
              "type": "string"
            }
          },
          "metadata": {},
          "execution_count": 56
        }
      ],
      "source": [
        "jovian.commit()"
      ]
    },
    {
      "cell_type": "code",
      "execution_count": null,
      "id": "common-gossip",
      "metadata": {
        "id": "common-gossip"
      },
      "outputs": [],
      "source": [
        ""
      ]
    },
    {
      "cell_type": "markdown",
      "id": "spatial-howard",
      "metadata": {
        "id": "spatial-howard"
      },
      "source": [
        "## Graph Traversal\n",
        "\n",
        "\n",
        "### Breadth-First Search\n",
        "\n",
        "A real-world graph:\n",
        "\n",
        "![](https://upload.wikimedia.org/wikipedia/commons/thumb/a/ad/MapGermanyGraph.svg/500px-MapGermanyGraph.svg.png)\n",
        "\n",
        "Breadth-fist search tree (starting from Frankfurt):\n",
        "\n",
        "![](https://upload.wikimedia.org/wikipedia/commons/thumb/6/63/GermanyBFS.svg/500px-GermanyBFS.svg.png)\n",
        "\n",
        "> **Question**: Implement breadth-first search given a source node in a graph using Python.\n",
        "\n",
        "\n",
        "<img src=\"https://i.imgur.com/E2Up1Pk.png\" width=\"400\">\n",
        "\n",
        "BFS pseudocode (Wikipedia):\n",
        "\n",
        "```\n",
        " 1  procedure BFS(G, root) is\n",
        " 2      let Q be a queue\n",
        " 3      label root as discovered\n",
        " 4      Q.enqueue(root)\n",
        " 5      while Q is not empty do\n",
        " 6          v := Q.dequeue()\n",
        " 7          if v is the goal then\n",
        " 8              return v\n",
        " 9          for all edges from v to w in G.adjacentEdges(v) do\n",
        "10              if w is not labeled as discovered then\n",
        "11                  label w as discovered\n",
        "12                  Q.enqueue(w)\n",
        "```\n",
        "\n"
      ]
    },
    {
      "cell_type": "code",
      "execution_count": 61,
      "id": "electoral-religious",
      "metadata": {
        "id": "electoral-religious"
      },
      "outputs": [],
      "source": [
        "def bfs(graph,root):\n",
        "  queue = []\n",
        "  discovered = [False] * len(graph.data)\n",
        "  distance = [None] * len(graph.data)\n",
        "  parent = [None]* len(graph.data)  \n",
        "  discovered[root] = True\n",
        "  queue.append(root)\n",
        "  distance[root] = 0\n",
        "  idx = 0\n",
        "\n",
        "  while idx < len(queue):\n",
        "    #dequeue\n",
        "    current = queue[idx]\n",
        "    idx +=1\n",
        "\n",
        "    #check all edges of current\n",
        "    for node in graph.data[current]:\n",
        "      if not discovered[node]:\n",
        "        distance[node] = 1 + distance[current]\n",
        "        parent[node] = current\n",
        "        discovered[node] = True\n",
        "        queue.append(node)\n",
        "  return queue , distance , parent"
      ]
    },
    {
      "cell_type": "markdown",
      "id": "czech-encounter",
      "metadata": {
        "id": "czech-encounter"
      },
      "source": [
        "<img src=\"https://cdn.programiz.com/sites/tutorial2program/files/queue-implementation.png\" width=\"400\">"
      ]
    },
    {
      "cell_type": "code",
      "execution_count": 58,
      "id": "animated-physiology",
      "metadata": {
        "colab": {
          "base_uri": "https://localhost:8080/"
        },
        "id": "animated-physiology",
        "outputId": "355f5e45-12d9-4679-c4c4-07705d20f927"
      },
      "outputs": [
        {
          "output_type": "execute_result",
          "data": {
            "text/plain": [
              "0: [1, 4]\n",
              "1: [0, 2, 3, 4]\n",
              "2: [1, 3]\n",
              "3: [1, 2, 4]\n",
              "4: [0, 1, 3]"
            ]
          },
          "metadata": {},
          "execution_count": 58
        }
      ],
      "source": [
        "graph1"
      ]
    },
    {
      "cell_type": "code",
      "execution_count": 62,
      "id": "disabled-washington",
      "metadata": {
        "colab": {
          "base_uri": "https://localhost:8080/"
        },
        "id": "disabled-washington",
        "outputId": "37a83079-bdc9-45cc-d521-b8f7b097a31c"
      },
      "outputs": [
        {
          "output_type": "execute_result",
          "data": {
            "text/plain": [
              "([3, 1, 2, 4, 0], [2, 1, 1, 0, 1], [1, 3, 3, None, 3])"
            ]
          },
          "metadata": {},
          "execution_count": 62
        }
      ],
      "source": [
        "bfs(graph1 , 3)"
      ]
    },
    {
      "cell_type": "markdown",
      "source": [
        "2nd list is [2,1,1,0,1] that is 0 is at distance 2 , 1 is at distance 1 ,2 is at distance 1 , 3 is at distance 0 and 4 is at distane 1 from ROOT 3\n",
        "\n",
        "3rd list is [1,3,3,None,3] that is parent of 0 is 1 , parent of 1 is 3 , an parent of 2 and 4 is also 3 and parent of 3 is None\n"
      ],
      "metadata": {
        "id": "bEnmqRjv3mZt"
      },
      "id": "bEnmqRjv3mZt"
    },
    {
      "cell_type": "code",
      "execution_count": 63,
      "id": "abstract-gibraltar",
      "metadata": {
        "id": "abstract-gibraltar"
      },
      "outputs": [],
      "source": [
        "import jovian"
      ]
    },
    {
      "cell_type": "code",
      "execution_count": 64,
      "id": "portuguese-consequence",
      "metadata": {
        "colab": {
          "base_uri": "https://localhost:8080/",
          "height": 87
        },
        "id": "portuguese-consequence",
        "outputId": "0de77231-a042-49b5-e75e-3fb6bd65c1aa"
      },
      "outputs": [
        {
          "output_type": "stream",
          "name": "stdout",
          "text": [
            "[jovian] Detected Colab notebook...\u001b[0m\n",
            "[jovian] Uploading colab notebook to Jovian...\u001b[0m\n",
            "Committed successfully! https://jovian.ai/prathamesh-kashelikar/python-graph-algorithms\n"
          ]
        },
        {
          "output_type": "execute_result",
          "data": {
            "text/plain": [
              "'https://jovian.ai/prathamesh-kashelikar/python-graph-algorithms'"
            ],
            "application/vnd.google.colaboratory.intrinsic+json": {
              "type": "string"
            }
          },
          "metadata": {},
          "execution_count": 64
        }
      ],
      "source": [
        "jovian.commit()"
      ]
    },
    {
      "cell_type": "markdown",
      "id": "synthetic-defense",
      "metadata": {
        "id": "synthetic-defense"
      },
      "source": [
        "> **Question**: Write a program to check if all the nodes in a graph are connected\n",
        "\n",
        "![](http://www.martinbroadhurst.com/images/connected_components.png)\n",
        "\n",
        "\n",
        "> **Question**: Find the number of connected components"
      ]
    },
    {
      "cell_type": "code",
      "execution_count": 65,
      "id": "premium-cincinnati",
      "metadata": {
        "colab": {
          "base_uri": "https://localhost:8080/"
        },
        "id": "premium-cincinnati",
        "outputId": "1e405f2e-e6a9-4b42-fc1e-26e7ee278beb"
      },
      "outputs": [
        {
          "output_type": "execute_result",
          "data": {
            "text/plain": [
              "(9, 8)"
            ]
          },
          "metadata": {},
          "execution_count": 65
        }
      ],
      "source": [
        "num_nodes3 = 9\n",
        "edges3 = [(0, 1), (0, 3), (1, 2), (2, 3), (4, 5), (4, 6), (5, 6), (7, 8)]\n",
        "num_nodes3, len(edges3)"
      ]
    },
    {
      "cell_type": "code",
      "execution_count": null,
      "id": "dominican-louisville",
      "metadata": {
        "id": "dominican-louisville"
      },
      "outputs": [],
      "source": [
        ""
      ]
    },
    {
      "cell_type": "code",
      "execution_count": null,
      "id": "agreed-damage",
      "metadata": {
        "id": "agreed-damage"
      },
      "outputs": [],
      "source": [
        ""
      ]
    },
    {
      "cell_type": "code",
      "execution_count": null,
      "id": "greatest-selection",
      "metadata": {
        "id": "greatest-selection"
      },
      "outputs": [],
      "source": [
        ""
      ]
    },
    {
      "cell_type": "code",
      "execution_count": null,
      "id": "proper-personality",
      "metadata": {
        "id": "proper-personality"
      },
      "outputs": [],
      "source": [
        ""
      ]
    },
    {
      "cell_type": "markdown",
      "id": "parliamentary-veteran",
      "metadata": {
        "id": "parliamentary-veteran"
      },
      "source": [
        "## Depth-first search\n",
        "\n",
        "![](https://upload.wikimedia.org/wikipedia/commons/thumb/7/7f/Depth-First-Search.gif/440px-Depth-First-Search.gif)\n",
        "\n",
        "\n",
        "> **Question**: Implement depth first search from a given node in a graph using Python.\n",
        "\n",
        "<img src=\"https://i.imgur.com/E2Up1Pk.png\" width=\"400\">\n",
        "\n",
        "DFS pseudocode (Wikipedia):\n",
        "\n",
        "```\n",
        "procedure DFS_iterative(G, v) is\n",
        "    let S be a stack\n",
        "    S.push(v)\n",
        "    while S is not empty do\n",
        "        v = S.pop()\n",
        "        if v is not labeled as discovered then\n",
        "            label v as discovered\n",
        "            for all edges from v to w in G.adjacentEdges(v) do \n",
        "                S.push(w)\n",
        "```\n",
        "\n",
        "\n"
      ]
    },
    {
      "cell_type": "code",
      "execution_count": 68,
      "id": "elect-montana",
      "metadata": {
        "id": "elect-montana"
      },
      "outputs": [],
      "source": [
        "def dfs(graph,root):\n",
        "  stack = []\n",
        "  discovered = [False] * len(graph.data)\n",
        "  result = []\n",
        "  stack.append(root)\n",
        "\n",
        "  while len(stack) > 0:\n",
        "    current = stack.pop()\n",
        "    if not discovered[current]:\n",
        "      discovered[current] = True\n",
        "      result.append(current)\n",
        "      for node in graph.data[current]:\n",
        "        if not discovered[node]:\n",
        "          stack.append(node)\n",
        "\n",
        "  return result\n"
      ]
    },
    {
      "cell_type": "code",
      "source": [
        "dfs(graph1,3)"
      ],
      "metadata": {
        "colab": {
          "base_uri": "https://localhost:8080/"
        },
        "id": "hccpVkmBCrvi",
        "outputId": "1d880065-ac88-4385-de47-2ab358d28418"
      },
      "id": "hccpVkmBCrvi",
      "execution_count": 69,
      "outputs": [
        {
          "output_type": "execute_result",
          "data": {
            "text/plain": [
              "[3, 4, 1, 2, 0]"
            ]
          },
          "metadata": {},
          "execution_count": 69
        }
      ]
    },
    {
      "cell_type": "markdown",
      "id": "descending-amber",
      "metadata": {
        "id": "descending-amber"
      },
      "source": [
        "<img src=\"https://cdn.programiz.com/sites/tutorial2program/files/stack.png\" width=\"400\">"
      ]
    },
    {
      "cell_type": "code",
      "execution_count": null,
      "id": "informal-christmas",
      "metadata": {
        "id": "informal-christmas"
      },
      "outputs": [],
      "source": [
        ""
      ]
    },
    {
      "cell_type": "code",
      "execution_count": null,
      "id": "arabic-machine",
      "metadata": {
        "id": "arabic-machine"
      },
      "outputs": [],
      "source": [
        ""
      ]
    },
    {
      "cell_type": "code",
      "execution_count": null,
      "id": "forward-department",
      "metadata": {
        "id": "forward-department"
      },
      "outputs": [],
      "source": [
        ""
      ]
    },
    {
      "cell_type": "code",
      "execution_count": null,
      "id": "contained-version",
      "metadata": {
        "id": "contained-version"
      },
      "outputs": [],
      "source": [
        ""
      ]
    },
    {
      "cell_type": "code",
      "execution_count": 70,
      "id": "lesser-opinion",
      "metadata": {
        "id": "lesser-opinion"
      },
      "outputs": [],
      "source": [
        "import jovian"
      ]
    },
    {
      "cell_type": "code",
      "execution_count": 71,
      "id": "hungry-increase",
      "metadata": {
        "colab": {
          "base_uri": "https://localhost:8080/",
          "height": 87
        },
        "id": "hungry-increase",
        "outputId": "3040cd56-fca8-4386-992d-f6b8c3d6b9d6"
      },
      "outputs": [
        {
          "output_type": "stream",
          "name": "stdout",
          "text": [
            "[jovian] Detected Colab notebook...\u001b[0m\n",
            "[jovian] Uploading colab notebook to Jovian...\u001b[0m\n",
            "Committed successfully! https://jovian.ai/prathamesh-kashelikar/python-graph-algorithms\n"
          ]
        },
        {
          "output_type": "execute_result",
          "data": {
            "text/plain": [
              "'https://jovian.ai/prathamesh-kashelikar/python-graph-algorithms'"
            ],
            "application/vnd.google.colaboratory.intrinsic+json": {
              "type": "string"
            }
          },
          "metadata": {},
          "execution_count": 71
        }
      ],
      "source": [
        "jovian.commit()"
      ]
    },
    {
      "cell_type": "markdown",
      "id": "together-blogger",
      "metadata": {
        "id": "together-blogger"
      },
      "source": [
        "> **Question**: Write a function to detect a cycle in a graph\n",
        "\n",
        "![](https://tutorialspoint.dev/image/cycleGraph.png)"
      ]
    },
    {
      "cell_type": "code",
      "execution_count": null,
      "id": "small-buyer",
      "metadata": {
        "id": "small-buyer"
      },
      "outputs": [],
      "source": [
        ""
      ]
    },
    {
      "cell_type": "code",
      "execution_count": null,
      "id": "daily-warrior",
      "metadata": {
        "id": "daily-warrior"
      },
      "outputs": [],
      "source": [
        ""
      ]
    },
    {
      "cell_type": "code",
      "execution_count": null,
      "id": "dried-reform",
      "metadata": {
        "id": "dried-reform"
      },
      "outputs": [],
      "source": [
        ""
      ]
    },
    {
      "cell_type": "markdown",
      "id": "broke-carroll",
      "metadata": {
        "id": "broke-carroll"
      },
      "source": [
        "### Weighted Graphs\n",
        "\n",
        "![](https://i.imgur.com/wy7ZHRW.png)\n",
        "\n"
      ]
    },
    {
      "cell_type": "code",
      "execution_count": null,
      "id": "eligible-equipment",
      "metadata": {
        "id": "eligible-equipment",
        "outputId": "8f1750eb-c441-4a5f-f58c-9979acf7938e"
      },
      "outputs": [
        {
          "data": {
            "text/plain": [
              "(9, 10)"
            ]
          },
          "execution_count": 11,
          "metadata": {},
          "output_type": "execute_result"
        }
      ],
      "source": [
        "# Graph with weights\n",
        "num_nodes5 = 9\n",
        "edges5 = [(0, 1, 3), (0, 3, 2), (0, 8, 4), (1, 7, 4), (2, 7, 2), (2, 3, 6), \n",
        "          (2, 5, 1), (3, 4, 1), (4, 8, 8), (5, 6, 8)]\n",
        "\n",
        "num_nodes5, len(edges5)"
      ]
    },
    {
      "cell_type": "markdown",
      "id": "abstract-return",
      "metadata": {
        "id": "abstract-return"
      },
      "source": [
        "### Directed Graphs\n",
        "\n",
        "<img src=\"https://i.imgur.com/8AN7EUV.png\" width=\"480\">"
      ]
    },
    {
      "cell_type": "code",
      "execution_count": null,
      "id": "fitted-kruger",
      "metadata": {
        "id": "fitted-kruger",
        "outputId": "ba09379f-4d63-4d2a-f026-c249fc58233a"
      },
      "outputs": [
        {
          "data": {
            "text/plain": [
              "(5, 6)"
            ]
          },
          "execution_count": 12,
          "metadata": {},
          "output_type": "execute_result"
        }
      ],
      "source": [
        "num_nodes6 = 5\n",
        "edges6 = [(0, 1), (1, 2), (2, 3), (2, 4), (4, 2), (3, 0)]\n",
        "num_nodes6, len(edges6)"
      ]
    },
    {
      "cell_type": "markdown",
      "id": "saved-pittsburgh",
      "metadata": {
        "id": "saved-pittsburgh"
      },
      "source": [
        "> **Question**: Define a class to represent weighted and directed graphs in Python."
      ]
    },
    {
      "cell_type": "code",
      "execution_count": null,
      "id": "affected-essence",
      "metadata": {
        "id": "affected-essence"
      },
      "outputs": [],
      "source": [
        ""
      ]
    },
    {
      "cell_type": "code",
      "execution_count": null,
      "id": "promotional-fiction",
      "metadata": {
        "id": "promotional-fiction"
      },
      "outputs": [],
      "source": [
        ""
      ]
    },
    {
      "cell_type": "code",
      "execution_count": null,
      "id": "virgin-impact",
      "metadata": {
        "id": "virgin-impact"
      },
      "outputs": [],
      "source": [
        ""
      ]
    },
    {
      "cell_type": "code",
      "execution_count": null,
      "id": "exempt-stone",
      "metadata": {
        "id": "exempt-stone"
      },
      "outputs": [],
      "source": [
        "import jovian"
      ]
    },
    {
      "cell_type": "code",
      "execution_count": null,
      "id": "chronic-uzbekistan",
      "metadata": {
        "id": "chronic-uzbekistan",
        "outputId": "84908239-09ff-4c64-d1f4-270f1938d794"
      },
      "outputs": [
        {
          "data": {
            "application/javascript": [
              "window.require && require([\"base/js/namespace\"],function(Jupyter){Jupyter.notebook.save_checkpoint()})"
            ],
            "text/plain": [
              "<IPython.core.display.Javascript object>"
            ]
          },
          "metadata": {},
          "output_type": "display_data"
        },
        {
          "name": "stdout",
          "output_type": "stream",
          "text": [
            "[jovian] Attempting to save notebook..\u001b[0m\n",
            "[jovian] Updating notebook \"aakashns/python-graph-algorithms\" on https://jovian.ai/\u001b[0m\n",
            "[jovian] Uploading notebook..\u001b[0m\n",
            "[jovian] Capturing environment..\u001b[0m\n",
            "[jovian] Committed successfully! https://jovian.ai/aakashns/python-graph-algorithms\u001b[0m\n"
          ]
        },
        {
          "data": {
            "text/plain": [
              "'https://jovian.ai/aakashns/python-graph-algorithms'"
            ]
          },
          "execution_count": 14,
          "metadata": {},
          "output_type": "execute_result"
        }
      ],
      "source": [
        "jovian.commit()"
      ]
    },
    {
      "cell_type": "markdown",
      "id": "posted-peripheral",
      "metadata": {
        "id": "posted-peripheral"
      },
      "source": [
        "## Shortest Paths\n",
        "\n",
        "\n",
        "> **Question**: Write a function to find the length of the shortest path between two nodes in a weighted directed graph.\n",
        "\n",
        "<img src=\"https://i.imgur.com/Zn5cUkO.png\" width=\"480\">\n",
        "\n",
        "\n",
        "**Dijkstra's algorithm (Wikipedia)**:\n",
        "\n",
        "![](https://upload.wikimedia.org/wikipedia/commons/5/57/Dijkstra_Animation.gif)\n",
        "\n",
        "1. Mark all nodes unvisited. Create a set of all the unvisited nodes called the unvisited set.\n",
        "2. Assign to every node a tentative distance value: set it to zero for our initial node and to infinity for all other nodes. Set the initial node as current.[16]\n",
        "3. For the current node, consider all of its unvisited neighbours and calculate their tentative distances through the current node. Compare the newly calculated tentative distance to the current assigned value and assign the smaller one. For example, if the current node A is marked with a distance of 6, and the edge connecting it with a neighbour B has length 2, then the distance to B through A will be 6 + 2 = 8. If B was previously marked with a distance greater than 8 then change it to 8. Otherwise, the current value will be kept.\n",
        "4. When we are done considering all of the unvisited neighbours of the current node, mark the current node as visited and remove it from the unvisited set. A visited node will never be checked again.\n",
        "5. If the destination node has been marked visited (when planning a route between two specific nodes) or if the smallest tentative distance among the nodes in the unvisited set is infinity (when planning a complete traversal; occurs when there is no connection between the initial node and remaining unvisited nodes), then stop. The algorithm has finished.\n",
        "6. Otherwise, select the unvisited node that is marked with the smallest tentative distance, set it as the new \"current node\", and go back to step 3."
      ]
    },
    {
      "cell_type": "code",
      "execution_count": null,
      "id": "certain-today",
      "metadata": {
        "id": "certain-today"
      },
      "outputs": [],
      "source": [
        "def update_distances(graph, current, distance, parent=None):\n",
        "    \"\"\"Update the distances of the current node's neighbors\"\"\"\n",
        "    neighbors = graph.data[current]\n",
        "    weights = graph.weight[current]\n",
        "    for i, node in enumerate(neighbors):\n",
        "        weight = weights[i]\n",
        "        if distance[current] + weight < distance[node]:\n",
        "            distance[node] = distance[current] + weight\n",
        "            if parent:\n",
        "                parent[node] = current\n",
        "\n",
        "def pick_next_node(distance, visited):\n",
        "    \"\"\"Pick the next univisited node at the smallest distance\"\"\"\n",
        "    min_distance = float('inf')\n",
        "    min_node = None\n",
        "    for node in range(len(distance)):\n",
        "        if not visited[node] and distance[node] < min_distance:\n",
        "            min_node = node\n",
        "            min_distance = distance[node]\n",
        "    return min_node"
      ]
    },
    {
      "cell_type": "code",
      "execution_count": null,
      "id": "apparent-decrease",
      "metadata": {
        "id": "apparent-decrease"
      },
      "outputs": [],
      "source": [
        ""
      ]
    },
    {
      "cell_type": "code",
      "execution_count": null,
      "id": "spare-glossary",
      "metadata": {
        "id": "spare-glossary"
      },
      "outputs": [],
      "source": [
        ""
      ]
    },
    {
      "cell_type": "code",
      "execution_count": null,
      "id": "adopted-creek",
      "metadata": {
        "id": "adopted-creek",
        "outputId": "ef326229-1be3-4ea2-d2bb-7ec285bb897f"
      },
      "outputs": [
        {
          "data": {
            "text/plain": [
              "(6, 7)"
            ]
          },
          "execution_count": 28,
          "metadata": {},
          "output_type": "execute_result"
        }
      ],
      "source": [
        "num_nodes7 = 6\n",
        "edges7 = [(0, 1, 4), (0, 2, 2), (1, 2, 5), (1, 3, 10), (2, 4, 3), (4, 3, 4), (3, 5, 11)]\n",
        "num_nodes7, len(edges7)"
      ]
    },
    {
      "cell_type": "code",
      "execution_count": null,
      "id": "spatial-engagement",
      "metadata": {
        "id": "spatial-engagement"
      },
      "outputs": [],
      "source": [
        ""
      ]
    },
    {
      "cell_type": "code",
      "execution_count": null,
      "id": "specific-champagne",
      "metadata": {
        "id": "specific-champagne"
      },
      "outputs": [],
      "source": [
        ""
      ]
    },
    {
      "cell_type": "code",
      "execution_count": null,
      "id": "right-kenya",
      "metadata": {
        "id": "right-kenya"
      },
      "outputs": [],
      "source": [
        ""
      ]
    },
    {
      "cell_type": "code",
      "execution_count": null,
      "id": "foreign-malpractice",
      "metadata": {
        "id": "foreign-malpractice"
      },
      "outputs": [],
      "source": [
        "import jovian"
      ]
    },
    {
      "cell_type": "code",
      "execution_count": null,
      "id": "reserved-investor",
      "metadata": {
        "id": "reserved-investor",
        "outputId": "24d7dbfd-bc95-48bc-cf02-a56f6a82bce0"
      },
      "outputs": [
        {
          "data": {
            "application/javascript": [
              "window.require && require([\"base/js/namespace\"],function(Jupyter){Jupyter.notebook.save_checkpoint()})"
            ],
            "text/plain": [
              "<IPython.core.display.Javascript object>"
            ]
          },
          "metadata": {},
          "output_type": "display_data"
        },
        {
          "name": "stdout",
          "output_type": "stream",
          "text": [
            "[jovian] Attempting to save notebook..\u001b[0m\n",
            "[jovian] Updating notebook \"aakashns/python-graph-algorithms\" on https://jovian.ai/\u001b[0m\n",
            "[jovian] Uploading notebook..\u001b[0m\n",
            "[jovian] Capturing environment..\u001b[0m\n",
            "[jovian] Committed successfully! https://jovian.ai/aakashns/python-graph-algorithms\u001b[0m\n"
          ]
        },
        {
          "data": {
            "text/plain": [
              "'https://jovian.ai/aakashns/python-graph-algorithms'"
            ]
          },
          "execution_count": 92,
          "metadata": {},
          "output_type": "execute_result"
        }
      ],
      "source": [
        "jovian.commit()"
      ]
    },
    {
      "cell_type": "markdown",
      "id": "coordinate-circle",
      "metadata": {
        "id": "coordinate-circle"
      },
      "source": [
        "### Binary Heap\n",
        "\n",
        "A data structure to maintain the running minimum/maximum of a set of numbers, supporting efficient addition/removal.\n",
        "\n",
        "\n",
        "<img src=\"https://i.imgur.com/ABAcM7m.png\" width=\"400\">\n",
        "\n",
        "\n",
        "Heap operations:\n",
        "\n",
        "- Insertion - $O(log N)$\n",
        "- Min/Max - $O(1)$ (depending on type of heap)\n",
        "- Deletion - $O(log N)$\n",
        "- Convert a list to a heap - $O(n)$\n",
        "\n",
        "\n",
        "Python's built-in heap: https://docs.python.org/3/library/heapq.html\n",
        "\n",
        "> **Question**: Implement Dijkstra's shortest path algorithm using the `heap` module from Python. What is the complexity of the algorithm?"
      ]
    },
    {
      "cell_type": "code",
      "execution_count": null,
      "id": "north-administrator",
      "metadata": {
        "id": "north-administrator"
      },
      "outputs": [],
      "source": [
        ""
      ]
    },
    {
      "cell_type": "code",
      "execution_count": null,
      "id": "latter-sunday",
      "metadata": {
        "id": "latter-sunday"
      },
      "outputs": [],
      "source": [
        ""
      ]
    },
    {
      "cell_type": "markdown",
      "id": "pointed-diabetes",
      "metadata": {
        "id": "pointed-diabetes"
      },
      "source": [
        "### More Problems\n",
        "\n",
        "Solve more graph problems here: https://leetcode.com/tag/graph/"
      ]
    },
    {
      "cell_type": "code",
      "execution_count": null,
      "id": "banner-canadian",
      "metadata": {
        "id": "banner-canadian"
      },
      "outputs": [],
      "source": [
        "import jovian"
      ]
    },
    {
      "cell_type": "code",
      "execution_count": null,
      "id": "union-chambers",
      "metadata": {
        "id": "union-chambers",
        "outputId": "6e945031-8048-4364-ee98-3d97c79b6ba2"
      },
      "outputs": [
        {
          "data": {
            "application/javascript": [
              "window.require && require([\"base/js/namespace\"],function(Jupyter){Jupyter.notebook.save_checkpoint()})"
            ],
            "text/plain": [
              "<IPython.core.display.Javascript object>"
            ]
          },
          "metadata": {},
          "output_type": "display_data"
        },
        {
          "name": "stdout",
          "output_type": "stream",
          "text": [
            "[jovian] Attempting to save notebook..\u001b[0m\n",
            "[jovian] Updating notebook \"aakashns/python-graph-algorithms\" on https://jovian.ai/\u001b[0m\n",
            "[jovian] Uploading notebook..\u001b[0m\n",
            "[jovian] Capturing environment..\u001b[0m\n",
            "[jovian] Committed successfully! https://jovian.ai/aakashns/python-graph-algorithms\u001b[0m\n"
          ]
        },
        {
          "data": {
            "text/plain": [
              "'https://jovian.ai/aakashns/python-graph-algorithms'"
            ]
          },
          "execution_count": 94,
          "metadata": {},
          "output_type": "execute_result"
        }
      ],
      "source": [
        "jovian.commit()"
      ]
    },
    {
      "cell_type": "code",
      "execution_count": null,
      "id": "existing-hospital",
      "metadata": {
        "id": "existing-hospital"
      },
      "outputs": [],
      "source": [
        ""
      ]
    },
    {
      "cell_type": "code",
      "execution_count": null,
      "id": "tribal-brand",
      "metadata": {
        "id": "tribal-brand"
      },
      "outputs": [],
      "source": [
        ""
      ]
    },
    {
      "cell_type": "markdown",
      "id": "ethical-marathon",
      "metadata": {
        "id": "ethical-marathon"
      },
      "source": [
        "## Solutions\n",
        "\n",
        "![](https://i.imgur.com/E2Up1Pk.png)"
      ]
    },
    {
      "cell_type": "markdown",
      "id": "desirable-possibility",
      "metadata": {
        "id": "desirable-possibility"
      },
      "source": [
        "### Input Data"
      ]
    },
    {
      "cell_type": "code",
      "execution_count": null,
      "id": "according-lunch",
      "metadata": {
        "id": "according-lunch",
        "outputId": "40336020-ca55-45e2-83cc-b4c468a77f49"
      },
      "outputs": [
        {
          "data": {
            "text/plain": [
              "(5, 7)"
            ]
          },
          "execution_count": 26,
          "metadata": {},
          "output_type": "execute_result"
        }
      ],
      "source": [
        "num_nodes1 = 5\n",
        "edges1 = [(0, 1), (1, 2), (2, 3), (3, 4), (4, 0), (1, 4), (1, 3)]\n",
        "num_nodes1, len(edges1)"
      ]
    },
    {
      "cell_type": "code",
      "execution_count": null,
      "id": "italian-armor",
      "metadata": {
        "id": "italian-armor",
        "outputId": "8aa265c4-d0b6-4dc3-84f4-584b702d6cf7"
      },
      "outputs": [
        {
          "data": {
            "text/plain": [
              "(9, 8)"
            ]
          },
          "execution_count": 25,
          "metadata": {},
          "output_type": "execute_result"
        }
      ],
      "source": [
        "num_nodes3 = 9\n",
        "edges3 = [(0, 1), (0, 3), (1, 2), (2, 3), (4, 5), (4, 6), (5, 6), (7, 8)]\n",
        "num_nodes3, len(edges3)"
      ]
    },
    {
      "cell_type": "code",
      "execution_count": null,
      "id": "strategic-deposit",
      "metadata": {
        "id": "strategic-deposit",
        "outputId": "3d9c6dd9-1c6e-4d69-ef27-1cd54c77f022"
      },
      "outputs": [
        {
          "data": {
            "text/plain": [
              "(9, 10)"
            ]
          },
          "execution_count": 15,
          "metadata": {},
          "output_type": "execute_result"
        }
      ],
      "source": [
        "num_nodes5 = 9\n",
        "edges5 = [(0, 1, 3), (0, 3, 2), (0, 8, 4), (1, 7, 4), (2, 7, 2), (2, 3, 6), \n",
        "          (2, 5, 1), (3, 4, 1), (4, 8, 8), (5, 6, 8)]\n",
        "\n",
        "num_nodes5, len(edges5)"
      ]
    },
    {
      "cell_type": "code",
      "execution_count": null,
      "id": "broke-hungarian",
      "metadata": {
        "id": "broke-hungarian",
        "outputId": "f8ad7df8-6a23-4e6a-bb09-7a7a9ad0465d"
      },
      "outputs": [
        {
          "data": {
            "text/plain": [
              "(5, 6)"
            ]
          },
          "execution_count": 16,
          "metadata": {},
          "output_type": "execute_result"
        }
      ],
      "source": [
        "# Directed graph\n",
        "num_nodes6 = 5\n",
        "edges6 = [(0, 1), (1, 2), (2, 3), (2, 4), (4, 2), (3, 0)]\n",
        "num_nodes6, len(edges6)"
      ]
    },
    {
      "cell_type": "code",
      "execution_count": null,
      "id": "instructional-sarah",
      "metadata": {
        "id": "instructional-sarah",
        "outputId": "19f8ab9b-7a35-4ac8-f95a-a09baa0be98e"
      },
      "outputs": [
        {
          "data": {
            "text/plain": [
              "(6, 7)"
            ]
          },
          "execution_count": 29,
          "metadata": {},
          "output_type": "execute_result"
        }
      ],
      "source": [
        "num_nodes7 = 6\n",
        "edges7 = [(0, 1, 4), (0, 2, 2), (1, 2, 5), (1, 3, 10), (2, 4, 3), (4, 3, 4), (3, 5, 11)]\n",
        "num_nodes7, len(edges7)"
      ]
    },
    {
      "cell_type": "markdown",
      "id": "homeless-hawaii",
      "metadata": {
        "id": "homeless-hawaii"
      },
      "source": [
        "### Adjacency List"
      ]
    },
    {
      "cell_type": "code",
      "execution_count": null,
      "id": "promising-atlantic",
      "metadata": {
        "id": "promising-atlantic"
      },
      "outputs": [],
      "source": [
        "class Graph:\n",
        "    def __init__(self, num_nodes, edges):\n",
        "        self.data = [[] for _ in range(num_nodes)]\n",
        "        for v1, v2 in edges:\n",
        "            self.data[v1].append(v2)\n",
        "            self.data[v2].append(v1)\n",
        "            \n",
        "    def __repr__(self):\n",
        "        return \"\\n\".join([\"{} : {}\".format(i, neighbors) for (i, neighbors) in enumerate(self.data)])\n",
        "\n",
        "    def __str__(self):\n",
        "        return repr(self)"
      ]
    },
    {
      "cell_type": "code",
      "execution_count": null,
      "id": "buried-brake",
      "metadata": {
        "id": "buried-brake"
      },
      "outputs": [],
      "source": [
        "g1 = Graph(num_nodes1, edges1)"
      ]
    },
    {
      "cell_type": "code",
      "execution_count": null,
      "id": "honey-tension",
      "metadata": {
        "id": "honey-tension",
        "outputId": "a6eaafd0-a942-49f3-e6cc-fd0d8433aaed"
      },
      "outputs": [
        {
          "data": {
            "text/plain": [
              "0 : [1, 4]\n",
              "1 : [0, 2, 4, 3]\n",
              "2 : [1, 3]\n",
              "3 : [2, 4, 1]\n",
              "4 : [3, 0, 1]"
            ]
          },
          "execution_count": 22,
          "metadata": {},
          "output_type": "execute_result"
        }
      ],
      "source": [
        "g1"
      ]
    },
    {
      "cell_type": "markdown",
      "id": "caroline-smile",
      "metadata": {
        "id": "caroline-smile"
      },
      "source": [
        "### Adjacency Matrix"
      ]
    },
    {
      "cell_type": "code",
      "execution_count": null,
      "id": "voluntary-border",
      "metadata": {
        "id": "voluntary-border"
      },
      "outputs": [],
      "source": [
        ""
      ]
    },
    {
      "cell_type": "code",
      "execution_count": null,
      "id": "fantastic-vacation",
      "metadata": {
        "id": "fantastic-vacation"
      },
      "outputs": [],
      "source": [
        ""
      ]
    },
    {
      "cell_type": "markdown",
      "id": "fifty-portland",
      "metadata": {
        "id": "fifty-portland"
      },
      "source": [
        "### Breadth First Search\n",
        "\n",
        "Complexity $O(m + n)$"
      ]
    },
    {
      "cell_type": "code",
      "execution_count": null,
      "id": "hairy-technique",
      "metadata": {
        "id": "hairy-technique"
      },
      "outputs": [],
      "source": [
        "def bfs(graph, source):\n",
        "    visited = [False] * len(graph.data)\n",
        "    queue = []\n",
        "    \n",
        "    visited[source] = True    \n",
        "    queue.append(source)\n",
        "    i = 0\n",
        "    \n",
        "    while i < len(queue):\n",
        "        for v in graph.data[queue[i]]:\n",
        "            if not visited[v]:\n",
        "                visited[v] = True\n",
        "                queue.append(v)\n",
        "        i += 1\n",
        "        \n",
        "    return queue"
      ]
    },
    {
      "cell_type": "code",
      "execution_count": null,
      "id": "deluxe-trust",
      "metadata": {
        "id": "deluxe-trust",
        "outputId": "9a733c84-2f7c-4305-abbf-da2dd98dbfec"
      },
      "outputs": [
        {
          "data": {
            "text/plain": [
              "[3, 2, 4, 1, 0]"
            ]
          },
          "execution_count": 39,
          "metadata": {},
          "output_type": "execute_result"
        }
      ],
      "source": [
        "bfs(g1, 3)"
      ]
    },
    {
      "cell_type": "code",
      "execution_count": null,
      "id": "immune-rider",
      "metadata": {
        "id": "immune-rider"
      },
      "outputs": [],
      "source": [
        ""
      ]
    },
    {
      "cell_type": "code",
      "execution_count": null,
      "id": "compatible-ceramic",
      "metadata": {
        "id": "compatible-ceramic"
      },
      "outputs": [],
      "source": [
        ""
      ]
    },
    {
      "cell_type": "markdown",
      "id": "active-simon",
      "metadata": {
        "id": "active-simon"
      },
      "source": [
        "### Depth First Search"
      ]
    },
    {
      "cell_type": "code",
      "execution_count": null,
      "id": "august-passage",
      "metadata": {
        "id": "august-passage"
      },
      "outputs": [],
      "source": [
        "def dfs(graph, source):\n",
        "    visited = [False] * len(graph.data)\n",
        "    stack = [source]\n",
        "    result = []\n",
        "    \n",
        "    while len(stack) > 0:\n",
        "        current = stack.pop()\n",
        "        if not visited[current]:\n",
        "            result.append(current)\n",
        "            visited[current] = True\n",
        "            for v in graph.data[current]:\n",
        "                stack.append(v)\n",
        "                \n",
        "    return result"
      ]
    },
    {
      "cell_type": "code",
      "execution_count": null,
      "id": "coordinate-public",
      "metadata": {
        "id": "coordinate-public",
        "outputId": "cff654cb-872c-4a8e-c34a-0d4f793af48c"
      },
      "outputs": [
        {
          "data": {
            "text/plain": [
              "[0, 4, 1, 3, 2]"
            ]
          },
          "execution_count": 45,
          "metadata": {},
          "output_type": "execute_result"
        }
      ],
      "source": [
        "dfs(g1, 0)"
      ]
    },
    {
      "cell_type": "code",
      "execution_count": null,
      "id": "funded-insert",
      "metadata": {
        "id": "funded-insert"
      },
      "outputs": [],
      "source": [
        ""
      ]
    },
    {
      "cell_type": "code",
      "execution_count": null,
      "id": "compliant-passing",
      "metadata": {
        "id": "compliant-passing"
      },
      "outputs": [],
      "source": [
        ""
      ]
    },
    {
      "cell_type": "markdown",
      "id": "lasting-directory",
      "metadata": {
        "id": "lasting-directory"
      },
      "source": [
        "### Directed and Weighted Graph"
      ]
    },
    {
      "cell_type": "code",
      "execution_count": null,
      "id": "olympic-bridge",
      "metadata": {
        "id": "olympic-bridge"
      },
      "outputs": [],
      "source": [
        "class Graph:\n",
        "    def __init__(self, num_nodes, edges, directed=False):\n",
        "        self.data = [[] for _ in range(num_nodes)]\n",
        "        self.weight = [[] for _ in range(num_nodes)]\n",
        "        \n",
        "        self.directed = directed\n",
        "        self.weighted = len(edges) > 0 and len(edges[0]) == 3\n",
        "            \n",
        "        for e in edges:\n",
        "            self.data[e[0]].append(e[1])\n",
        "            if self.weighted:\n",
        "                self.weight[e[0]].append(e[2])\n",
        "            \n",
        "            if not directed:\n",
        "                self.data[e[1]].append(e[0])\n",
        "                if self.weighted:\n",
        "                    self.data[e[1]].append(e[2])\n",
        "                \n",
        "    def __repr__(self):\n",
        "        result = \"\"\n",
        "        for i in range(len(self.data)):\n",
        "            pairs = list(zip(self.data[i], self.weight[i]))\n",
        "            result += \"{}: {}\\n\".format(i, pairs)\n",
        "        return result\n",
        "\n",
        "    def __str__(self):\n",
        "        return repr(self)"
      ]
    },
    {
      "cell_type": "code",
      "execution_count": null,
      "id": "monthly-vatican",
      "metadata": {
        "id": "monthly-vatican"
      },
      "outputs": [],
      "source": [
        "g7 = Graph(num_nodes7, edges7, directed=True)"
      ]
    },
    {
      "cell_type": "code",
      "execution_count": null,
      "id": "entertaining-soundtrack",
      "metadata": {
        "id": "entertaining-soundtrack",
        "outputId": "b60fd05b-b41d-417f-9091-d3a54d62acd1"
      },
      "outputs": [
        {
          "data": {
            "text/plain": [
              "0: [(1, 4), (2, 2)]\n",
              "1: [(2, 5), (3, 10)]\n",
              "2: [(4, 3)]\n",
              "3: [(5, 11)]\n",
              "4: [(3, 4)]\n",
              "5: []"
            ]
          },
          "execution_count": 69,
          "metadata": {},
          "output_type": "execute_result"
        }
      ],
      "source": [
        "g7"
      ]
    },
    {
      "cell_type": "code",
      "execution_count": null,
      "id": "related-senator",
      "metadata": {
        "id": "related-senator",
        "outputId": "ab9cbf05-d19d-4bcb-8ed0-0d084207dc36"
      },
      "outputs": [
        {
          "data": {
            "text/plain": [
              "[2, 10, 3, 11, 4, []]"
            ]
          },
          "execution_count": 61,
          "metadata": {},
          "output_type": "execute_result"
        }
      ],
      "source": [
        "g7.weight"
      ]
    },
    {
      "cell_type": "markdown",
      "id": "confident-rochester",
      "metadata": {
        "id": "confident-rochester"
      },
      "source": [
        "### Shortest Path - Dijkstra's Algorithm"
      ]
    },
    {
      "cell_type": "code",
      "execution_count": null,
      "id": "pursuant-bedroom",
      "metadata": {
        "id": "pursuant-bedroom"
      },
      "outputs": [],
      "source": [
        "def update_distances(graph, current, distance, parent=None):\n",
        "    \"\"\"Update the distances of the current node's neighbors\"\"\"\n",
        "    neighbors = graph.data[current]\n",
        "    weights = graph.weight[current]\n",
        "    for i, node in enumerate(neighbors):\n",
        "        weight = weights[i]\n",
        "        if distance[current] + weight < distance[node]:\n",
        "            distance[node] = distance[current] + weight\n",
        "            if parent:\n",
        "                parent[node] = current\n",
        "\n",
        "def pick_next_node(distance, visited):\n",
        "    \"\"\"Pick the next univisited node at the smallest distance\"\"\"\n",
        "    min_distance = float('inf')\n",
        "    min_node = None\n",
        "    for node in range(len(distance)):\n",
        "        if not visited[node] and distance[node] < min_distance:\n",
        "            min_node = node\n",
        "            min_distance = distance[node]\n",
        "    return min_node\n",
        "        \n",
        "def shortest_path(graph, source, dest):\n",
        "    \"\"\"Find the length of the shortest path between source and destination\"\"\"\n",
        "    visited = [False] * len(graph.data)\n",
        "    distance = [float('inf')] * len(graph.data)\n",
        "    parent = [None] * len(graph.data)\n",
        "    queue = []\n",
        "    idx = 0\n",
        "    \n",
        "    queue.append(source)\n",
        "    distance[source] = 0\n",
        "    visited[source] = True\n",
        "    \n",
        "    while idx < len(queue) and not visited[dest]:\n",
        "        current = queue[idx]\n",
        "        update_distances(graph, current, distance, parent)\n",
        "        \n",
        "        next_node = pick_next_node(distance, visited)\n",
        "        if next_node is not None:\n",
        "            visited[next_node] = True\n",
        "            queue.append(next_node)\n",
        "        idx += 1\n",
        "        \n",
        "    return distance[dest], distance, parent"
      ]
    },
    {
      "cell_type": "markdown",
      "id": "celtic-tension",
      "metadata": {
        "id": "celtic-tension"
      },
      "source": [
        "<img src=\"https://i.imgur.com/Zn5cUkO.png\" width=\"400\">"
      ]
    },
    {
      "cell_type": "code",
      "execution_count": null,
      "id": "grand-barbados",
      "metadata": {
        "id": "grand-barbados",
        "outputId": "51bf82ef-8b9e-4b02-8f5e-55cfb3386548"
      },
      "outputs": [
        {
          "data": {
            "text/plain": [
              "(20, [0, 4, 2, 9, 5, 20], [None, 0, 0, 4, 2, 3])"
            ]
          },
          "execution_count": 84,
          "metadata": {},
          "output_type": "execute_result"
        }
      ],
      "source": [
        "shortest_path(g7, 0, 5)"
      ]
    },
    {
      "cell_type": "code",
      "execution_count": null,
      "id": "quick-header",
      "metadata": {
        "id": "quick-header"
      },
      "outputs": [],
      "source": [
        ""
      ]
    },
    {
      "cell_type": "code",
      "execution_count": null,
      "id": "wicked-desert",
      "metadata": {
        "id": "wicked-desert"
      },
      "outputs": [],
      "source": [
        ""
      ]
    },
    {
      "cell_type": "code",
      "execution_count": null,
      "id": "rocky-ready",
      "metadata": {
        "id": "rocky-ready"
      },
      "outputs": [],
      "source": [
        ""
      ]
    },
    {
      "cell_type": "code",
      "execution_count": null,
      "id": "labeled-watch",
      "metadata": {
        "id": "labeled-watch"
      },
      "outputs": [],
      "source": [
        ""
      ]
    },
    {
      "cell_type": "code",
      "execution_count": null,
      "id": "advanced-decrease",
      "metadata": {
        "id": "advanced-decrease"
      },
      "outputs": [],
      "source": [
        "import jovian"
      ]
    },
    {
      "cell_type": "code",
      "execution_count": null,
      "id": "injured-juice",
      "metadata": {
        "id": "injured-juice",
        "outputId": "3956457f-ae98-4c09-914f-324193d8ccb7"
      },
      "outputs": [
        {
          "data": {
            "application/javascript": [
              "window.require && require([\"base/js/namespace\"],function(Jupyter){Jupyter.notebook.save_checkpoint()})"
            ],
            "text/plain": [
              "<IPython.core.display.Javascript object>"
            ]
          },
          "metadata": {},
          "output_type": "display_data"
        },
        {
          "name": "stdout",
          "output_type": "stream",
          "text": [
            "[jovian] Attempting to save notebook..\u001b[0m\n"
          ]
        }
      ],
      "source": [
        "jovian.commit()"
      ]
    },
    {
      "cell_type": "code",
      "execution_count": null,
      "id": "international-motor",
      "metadata": {
        "id": "international-motor"
      },
      "outputs": [],
      "source": [
        ""
      ]
    }
  ],
  "metadata": {
    "kernelspec": {
      "display_name": "Python 3",
      "language": "python",
      "name": "python3"
    },
    "language_info": {
      "codemirror_mode": {
        "name": "ipython",
        "version": 3
      },
      "file_extension": ".py",
      "mimetype": "text/x-python",
      "name": "python",
      "nbconvert_exporter": "python",
      "pygments_lexer": "ipython3",
      "version": "3.6.12"
    },
    "colab": {
      "name": "python-graph-algorithms.ipynb",
      "provenance": [],
      "include_colab_link": true
    }
  },
  "nbformat": 4,
  "nbformat_minor": 5
}